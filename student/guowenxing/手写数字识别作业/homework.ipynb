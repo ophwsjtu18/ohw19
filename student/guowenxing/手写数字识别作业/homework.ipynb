{
 "cells": [
  {
   "cell_type": "code",
   "execution_count": 1,
   "metadata": {},
   "outputs": [],
   "source": [
    "%matplotlib inline"
   ]
  },
  {
   "cell_type": "code",
   "execution_count": 2,
   "metadata": {},
   "outputs": [
    {
     "name": "stderr",
     "output_type": "stream",
     "text": [
      "Using TensorFlow backend.\n"
     ]
    }
   ],
   "source": [
    "import tensorflow as tf\n",
    "import numpy as np\n",
    "import matplotlib.pyplot as plt\n",
    "plt.rcParams['figure.figsize'] = (7,7) # Make the figures a bit bigger\n",
    "\n",
    "from keras.datasets import mnist\n",
    "from keras.models import Sequential\n",
    "from keras.layers.core import Dense, Dropout, Activation\n",
    "from keras.utils import np_utils"
   ]
  },
  {
   "cell_type": "code",
   "execution_count": 3,
   "metadata": {},
   "outputs": [],
   "source": [
    "nb_classes = 12\n",
    "(X_train, y_train), (X_test, y_test) = mnist.load_data()\n",
    "X_train = X_train.reshape(60000, 784)\n",
    "X_test = X_test.reshape(10000, 784)\n",
    "X_train = X_train.astype('float32')\n",
    "X_test = X_test.astype('float32')\n",
    "X_train /= 255\n",
    "X_test /= 255\n",
    "Y_train = np_utils.to_categorical(y_train, nb_classes)\n",
    "Y_test = np_utils.to_categorical(y_test, nb_classes)"
   ]
  },
  {
   "cell_type": "code",
   "execution_count": 4,
   "metadata": {},
   "outputs": [],
   "source": [
    "model = Sequential()\n",
    "model.add(Dense(512, input_shape=(784,)))\n",
    "model.add(Activation('relu')) \n",
    "model.add(Dropout(0.2))\n",
    "model.add(Dense(512))\n",
    "model.add(Activation('relu'))\n",
    "model.add(Dropout(0.2))\n",
    "model.add(Dense(nb_classes))\n",
    "model.add(Activation('softmax'))"
   ]
  },
  {
   "cell_type": "code",
   "execution_count": 5,
   "metadata": {},
   "outputs": [],
   "source": [
    "model.compile(loss='categorical_crossentropy', optimizer='adam')"
   ]
  },
  {
   "cell_type": "code",
   "execution_count": 6,
   "metadata": {},
   "outputs": [
    {
     "name": "stdout",
     "output_type": "stream",
     "text": [
      "Train on 60000 samples, validate on 10000 samples\n",
      "Epoch 1/4\n",
      "60000/60000 [==============================] - 33s 544us/step - loss: 0.2499 - val_loss: 0.1076\n",
      "Epoch 2/4\n",
      "60000/60000 [==============================] - 35s 587us/step - loss: 0.1022 - val_loss: 0.0791\n",
      "Epoch 3/4\n",
      "60000/60000 [==============================] - 32s 541us/step - loss: 0.0704 - val_loss: 0.0725\n",
      "Epoch 4/4\n",
      "60000/60000 [==============================] - 32s 531us/step - loss: 0.0576 - val_loss: 0.0639\n"
     ]
    },
    {
     "data": {
      "text/plain": [
       "<keras.callbacks.History at 0x12ecf537f60>"
      ]
     },
     "execution_count": 6,
     "metadata": {},
     "output_type": "execute_result"
    }
   ],
   "source": [
    "model.fit(X_train, Y_train,\n",
    "          batch_size=128, epochs=4,verbose=1,\n",
    "          validation_data=(X_test, Y_test))"
   ]
  },
  {
   "cell_type": "code",
   "execution_count": 7,
   "metadata": {},
   "outputs": [],
   "source": [
    "#切图片\n",
    "\n",
    "import cv2\n",
    "import numpy as np\n",
    "\n",
    "img = cv2.imread(\"./handnumbers2.jpg\")\n",
    "x1 = 300\n",
    "x2 = 1000\n",
    "y1 = 200\n",
    "y2 = 700\n",
    "for i in range(4):\n",
    "    for j in range(2):\n",
    "        img_crop = img[x1+1000*j:x2+1000*j,y1+800*i:y2+800*i]\n",
    "        filename = str(i)+str(j)+\".jpg\"\n",
    "        cv2.imwrite(filename,img_crop)\n",
    "        cv2.imshow(\"ing\",img_crop)\n",
    "        cv2.waitKey(0)\n",
    "\n",
    "cv2.destroyAllWindows()"
   ]
  },
  {
   "cell_type": "code",
   "execution_count": 8,
   "metadata": {},
   "outputs": [
    {
     "name": "stdout",
     "output_type": "stream",
     "text": [
      "hn28inv00.jpg\n",
      "hn28inv01.jpg\n",
      "hn28inv10.jpg\n",
      "hn28inv11.jpg\n",
      "hn28inv20.jpg\n",
      "hn28inv21.jpg\n",
      "hn28inv30.jpg\n",
      "hn28inv31.jpg\n"
     ]
    }
   ],
   "source": [
    "import cv2\n",
    "for i in range(4):\n",
    "    for j in range(2):\n",
    "        filename = str(i)+str(j)+\".jpg\"\n",
    "        img = cv2.imread(filename)\n",
    "        GrayImage=cv2.cvtColor(img,cv2.COLOR_BGR2GRAY)\n",
    "        ret,thresh1=cv2.threshold(GrayImage,120,255,cv2.THRESH_BINARY)\n",
    "        resized_image = cv2.resize(thresh1, (28, 28)) \n",
    "        invimg = ~resized_image\n",
    "        outputfile=\"hn28inv\"+str(i)+str(j)+\".jpg\"\n",
    "        print(outputfile)\n",
    "        cv2.imwrite(outputfile,invimg)"
   ]
  },
  {
   "cell_type": "code",
   "execution_count": 18,
   "metadata": {},
   "outputs": [
    {
     "name": "stdout",
     "output_type": "stream",
     "text": [
      "hn28inv00.jpg\n",
      "hn28inv01.jpg\n",
      "hn28inv10.jpg\n",
      "hn28inv11.jpg\n",
      "hn28inv20.jpg\n",
      "hn28inv21.jpg\n",
      "hn28inv30.jpg\n",
      "hn28inv31.jpg\n",
      "(8, 28, 28)\n"
     ]
    }
   ],
   "source": [
    "import cv2\n",
    "import numpy\n",
    "\n",
    "X_pred = numpy.zeros(shape=(8,28,28))\n",
    "index=0\n",
    "\n",
    "for i in range(4):\n",
    "    for j in range(2):\n",
    "        filename=\"hn28inv\"+str(i)+str(j)+\".jpg\"\n",
    "        print(filename)\n",
    "        img = cv2.imread(filename)\n",
    "        GrayImage=cv2.cvtColor(img,cv2.COLOR_BGR2GRAY)\n",
    "        X_pred[index]=cv2.resize(GrayImage, (28, 28))\n",
    "        index+=1\n",
    "print(X_pred.shape)"
   ]
  },
  {
   "cell_type": "code",
   "execution_count": 19,
   "metadata": {},
   "outputs": [
    {
     "data": {
      "image/png": "[encoded data removed]",
      "text/plain": [
       "<Figure size 504x504 with 8 Axes>"
      ]
     },
     "metadata": {
      "needs_background": "light"
     },
     "output_type": "display_data"
    }
   ],
   "source": [
    "for i in range(8):\n",
    "    plt.subplot(2,4,i+1)\n",
    "    plt.imshow(X_pred[i], cmap='gray', interpolation='none')"
   ]
  },
  {
   "cell_type": "code",
   "execution_count": 20,
   "metadata": {},
   "outputs": [
    {
     "name": "stdout",
     "output_type": "stream",
     "text": [
      "Testing matrix shape (8, 784)\n",
      "[1 5 9 7 7 4 4 1]\n"
     ]
    }
   ],
   "source": [
    "Y_pred = [9,5,8,3,7,2,6,1]\n",
    "X_pred = X_pred.reshape(8, 784)\n",
    "X_pred = X_pred.astype('float32')\n",
    "X_pred /= 255\n",
    "print(\"Testing matrix shape\", X_pred.shape)\n",
    "predicted_classes = model.predict_classes(X_pred)\n",
    "print(predicted_classes==Y_pred)"
   ]
  },
  {
   "cell_type": "code",
   "execution_count": null,
   "metadata": {},
   "outputs": [],
   "source": []
  }
 ],
 "metadata": {
  "kernelspec": {
   "display_name": "Python 3",
   "language": "python",
   "name": "python3"
  },
  "language_info": {
   "codemirror_mode": {
    "name": "ipython",
    "version": 3
   },
   "file_extension": ".py",
   "mimetype": "text/x-python",
   "name": "python",
   "nbconvert_exporter": "python",
   "pygments_lexer": "ipython3",
   "version": "3.6.8"
  }
 },
 "nbformat": 4,
 "nbformat_minor": 2
}
